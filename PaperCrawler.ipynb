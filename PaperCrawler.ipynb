{
  "cells": [
    {
      "cell_type": "markdown",
      "metadata": {
        "id": "view-in-github",
        "colab_type": "text"
      },
      "source": [
        "<a href=\"https://colab.research.google.com/github/nguyenviethoa95/Baugenehmigung-Crawler/blob/master/PaperCrawler.ipynb\" target=\"_parent\"><img src=\"https://colab.research.google.com/assets/colab-badge.svg\" alt=\"Open In Colab\"/></a>"
      ]
    },
    {
      "cell_type": "code",
      "execution_count": null,
      "metadata": {
        "colab": {
          "base_uri": "https://localhost:8080/"
        },
        "id": "Jk8yLipRdChs",
        "outputId": "54775062-168d-4c0c-a2b8-e1bd5ee64f6b"
      },
      "outputs": [
        {
          "output_type": "stream",
          "name": "stdout",
          "text": [
            "--2023-07-29 16:38:47--  https://github.com/allenai/s2-folks/blob/main/examples/python/bulk_get_papers_by_pmid/requirements.txt\n",
            "Resolving github.com (github.com)... 140.82.113.4\n",
            "Connecting to github.com (github.com)|140.82.113.4|:443... connected.\n",
            "HTTP request sent, awaiting response... 200 OK\n",
            "Length: 6151 (6.0K) [text/plain]\n",
            "Saving to: ‘requirements.txt.1’\n",
            "\n",
            "requirements.txt.1  100%[===================>]   6.01K  --.-KB/s    in 0s      \n",
            "\n",
            "2023-07-29 16:38:48 (67.0 MB/s) - ‘requirements.txt.1’ saved [6151/6151]\n",
            "\n",
            "Requirement already satisfied: arxiv in /usr/local/lib/python3.10/dist-packages (1.4.8)\n",
            "Requirement already satisfied: feedparser in /usr/local/lib/python3.10/dist-packages (from arxiv) (6.0.10)\n",
            "Requirement already satisfied: sgmllib3k in /usr/local/lib/python3.10/dist-packages (from feedparser->arxiv) (1.0.0)\n",
            "Requirement already satisfied: SemanticScholar in /usr/local/lib/python3.10/dist-packages (0.4.1)\n",
            "Requirement already satisfied: requests in /usr/local/lib/python3.10/dist-packages (from SemanticScholar) (2.27.1)\n",
            "Requirement already satisfied: tenacity in /usr/local/lib/python3.10/dist-packages (from SemanticScholar) (8.2.2)\n",
            "Requirement already satisfied: urllib3<1.27,>=1.21.1 in /usr/local/lib/python3.10/dist-packages (from requests->SemanticScholar) (1.26.16)\n",
            "Requirement already satisfied: certifi>=2017.4.17 in /usr/local/lib/python3.10/dist-packages (from requests->SemanticScholar) (2023.7.22)\n",
            "Requirement already satisfied: charset-normalizer~=2.0.0 in /usr/local/lib/python3.10/dist-packages (from requests->SemanticScholar) (2.0.12)\n",
            "Requirement already satisfied: idna<4,>=2.5 in /usr/local/lib/python3.10/dist-packages (from requests->SemanticScholar) (3.4)\n",
            "Requirement already satisfied: requests in /usr/local/lib/python3.10/dist-packages (2.27.1)\n",
            "Requirement already satisfied: urllib3<1.27,>=1.21.1 in /usr/local/lib/python3.10/dist-packages (from requests) (1.26.16)\n",
            "Requirement already satisfied: certifi>=2017.4.17 in /usr/local/lib/python3.10/dist-packages (from requests) (2023.7.22)\n",
            "Requirement already satisfied: charset-normalizer~=2.0.0 in /usr/local/lib/python3.10/dist-packages (from requests) (2.0.12)\n",
            "Requirement already satisfied: idna<4,>=2.5 in /usr/local/lib/python3.10/dist-packages (from requests) (3.4)\n"
          ]
        }
      ],
      "source": [
        "!wget https://github.com/allenai/s2-folks/blob/main/examples/python/bulk_get_papers_by_pmid/requirements.txt\n",
        "!pip install arxiv\n",
        "!pip install SemanticScholar\n",
        "!pip install requests"
      ]
    },
    {
      "cell_type": "code",
      "execution_count": null,
      "metadata": {
        "id": "amZXOsUWdNjR"
      },
      "outputs": [],
      "source": [
        "from collections import defaultdict\n",
        "from dbm import error\n",
        "from statistics import mean\n",
        "import shelve\n",
        "\n",
        "import arxiv\n",
        "import seaborn as sb\n",
        "from matplotlib import pyplot as plt\n",
        "from matplotlib import ticker as mtick\n",
        "from tqdm import tqdm\n",
        "from pandas import DataFrame\n",
        "from datetime import datetime\n",
        "from itertools import chain\n",
        "from os.path import basename\n",
        "from semanticscholar import SemanticScholar, SemanticScholarException\n",
        "import requests\n",
        "import csv\n",
        "import itertools\n",
        "import numpy as np\n",
        "import matplotlib.pyplot as plt\n",
        "import pandas as pd\n",
        "import numpy as np\n",
        "import pickle"
      ]
    },
    {
      "cell_type": "code",
      "execution_count": null,
      "metadata": {
        "colab": {
          "base_uri": "https://localhost:8080/"
        },
        "id": "gnmCJCdbdRC1",
        "outputId": "84d7b2bd-bbdc-467d-e0ee-f55c4f9f261b"
      },
      "outputs": [
        {
          "output_type": "stream",
          "name": "stdout",
          "text": [
            "Downloading papers.\n",
            "(cat:econ.EM)\n"
          ]
        },
        {
          "output_type": "stream",
          "name": "stderr",
          "text": [
            "39it [00:15,  2.53it/s]\n"
          ]
        }
      ],
      "source": [
        "''' To get search results from arxiv query. Modify it accordingly.'''\n",
        "def search(queries=[], field=\"all\", cats=[\"econ.EM\"]): # cs.AI, cs.CV, q-fin.CP,cs.CL,cs.LG\n",
        "    query_string, client = \"\", arxiv.Client(num_retries=40, page_size=1000)\n",
        "    if queries:\n",
        "        query_string += \"(\" + \" OR \".join(f\"{field}:{query}\" for query in queries) + \")\"\n",
        "    if cats:\n",
        "        if query_string:\n",
        "            query_string += \" AND \"\n",
        "        query_string += \"(\" + \" OR \".join(f\"cat:{cat}\" for cat in cats) + \")\"\n",
        "    print(query_string)\n",
        "    return client.results(arxiv.Search(\n",
        "        query = query_string,\n",
        "        sort_by = arxiv.SortCriterion.SubmittedDate,\n",
        "        sort_order = arxiv.SortOrder.Ascending\n",
        "    ))\n",
        "whole_data = []\n",
        "tagger = 0\n",
        "\n",
        "''' Main function which create the .db file for a particular year and saves the data in a .csv file.'''\n",
        "def get_papers(file=\"papers.shelf\"):\n",
        "    target = 2014\n",
        "    papers = defaultdict(list)\n",
        "    try:\n",
        "        with shelve.open(file, \"r\") as shelf:\n",
        "            print(\"Loading cached papers.\")\n",
        "            for month in shelf:\n",
        "                papers[int(month)] = shelf[month]\n",
        "    except:\n",
        "        print(\"Downloading papers.\")\n",
        "        for result in tqdm(search()):\n",
        "            if result is None:\n",
        "              continue\n",
        "            if result.published.year == target:\n",
        "                tagger = result.published.year\n",
        "                result.references = get_citations(result)\n",
        "                papers[result.published.month].append(result)\n",
        "                if result.references!=0:\n",
        "                  csv_entry = {'year': result.published.year, 'title': result.title, 'link': result.entry_id}\n",
        "                  real_count = 0\n",
        "                  for i in range(len(result.references)):\n",
        "                      yr = result.references[i]['citedPaper']['year']\n",
        "                      if yr is not None:\n",
        "                          real_count = real_count + 1\n",
        "                          c_head = 'ref age ' + str(real_count+1)\n",
        "                          csv_entry[c_head] = result.references[i]['citedPaper']['year']\n",
        "                  whole_data.append(csv_entry)\n",
        "                else:\n",
        "                  pass\n",
        "            elif result.published.year>target:\n",
        "              break\n",
        "            else:\n",
        "                pass\n",
        "        with shelve.open(file, \"c\") as shelf:  # Use 'c' flag to create a new db if it doesn't exist\n",
        "            for month in papers:\n",
        "                shelf[str(month)] = papers[month]\n",
        "        field_names = set().union(*(d.keys() for d in whole_data))\n",
        "        with open('output.csv', 'w', newline='') as csvfile:\n",
        "          # below is to sort the columns in a specific order\n",
        "          mod_names = ['year','title','link']\n",
        "          field_names = list(field_names)\n",
        "          field_names.remove('year')\n",
        "          field_names.remove('title')\n",
        "          field_names.remove('link')\n",
        "          sorted_field_names = sorted(field_names, key=lambda x: int(x.split()[-1]))\n",
        "          final_names = mod_names + sorted_field_names\n",
        "          writer = csv.DictWriter(csvfile, fieldnames=final_names)\n",
        "          writer.writeheader()\n",
        "          writer.writerows(whole_data)\n",
        "    return papers\n",
        "\n",
        "\n",
        "sch = SemanticScholar(timeout=100)\n",
        "# global lists used for plotting\n",
        "total_ages = []\n",
        "total_years = []\n",
        "\n",
        "''' Function to get the referecnes for a particular year.'''\n",
        "def get_citations(paper):\n",
        "    try:\n",
        "        m_year = paper.published.timetuple().tm_year\n",
        "        r_years =[]\n",
        "        ages = []\n",
        "        temp2 = sch.get_paper_references(\"arxiv:\" + basename(paper.entry_id).split(\"v\")[0])\n",
        "        for i in range(len(temp2)):\n",
        "          if len(temp2[i]['citedPaper']['authors'])>0:\n",
        "            yr = temp2[i]['citedPaper']['year']\n",
        "            if yr is not None:\n",
        "              r_years.append(yr)\n",
        "              ages.append(m_year-yr)\n",
        "            else:\n",
        "              pass\n",
        "    except:\n",
        "      pass\n",
        "    total_ages.append(ages)\n",
        "    total_years.append(r_years)\n",
        "    try:\n",
        "      return temp2.raw_data\n",
        "    except :\n",
        "        return 0\n",
        "\n",
        "def find_terms(all_papers, terms=['chat', 'gpt'], filename=\"chatgpt.pdf\"):\n",
        "    title_results, abstract_results = defaultdict(list), defaultdict(list)\n",
        "    for month, papers in all_papers.items():\n",
        "        for paper in papers:\n",
        "            if any(term.lower() in paper.title.lower() for term in terms):\n",
        "                title_results[month].append(paper)\n",
        "                abstract_results[month].append(paper)\n",
        "            elif any(term.lower() in paper.summary.lower() for term in terms):\n",
        "                abstract_results[month].append(paper)\n",
        "\n",
        "    ax = sb.lineplot({\n",
        "        \"Title only\": [100 * len(title_results[month])/len(all_papers[month]) for month in sorted(all_papers)],\n",
        "        \"Title & Abstract\": [100 * len(abstract_results[month])/len(all_papers[month]) for month in sorted(all_papers)]\n",
        "    })\n",
        "    ax.yaxis.set_major_formatter(mtick.PercentFormatter())\n",
        "    ax.set_xticks(range(4), labels=[\"January\", \"February\", \"March\", \"April\"])\n",
        "    plt.show()\n",
        "    #plt.savefig(filename, bbox_inches='tight')\n",
        "\n",
        "def regression(papers):\n",
        "    #papers = {key:[paper for paper in ps if paper.citationCount >= 1] for key, ps in papers.items()}\n",
        "    paper_date = defaultdict(list)\n",
        "    for paper in [paper for paper in chain.from_iterable(papers.values())]:\n",
        "        paper_date[paper.published.timetuple().tm_yday].append(paper.citationCount)\n",
        "    ax = sb.lmplot(DataFrame.from_dict({\n",
        "        (date_label := \"Date\"): sorted(paper_date.keys()),\n",
        "        (citation_label := \"Average Citations per Day\"): [mean(values) for _, values in sorted(paper_date.items(), key=lambda kv: kv[0])]\n",
        "    }), x=date_label, y=citation_label, order=5, height=5, aspect=16/9) # pyright: ignore\n",
        "\n",
        "    dates = [datetime.strptime(f\"2023-{day}\", \"%Y-%j\").strftime(\"%d. %m\") for day in sorted(paper_date.keys())]\n",
        "    ticks = list(map(int, ax.ax.get_xticks()[1:-1]))\n",
        "    ax.ax.set_xticks(ticks, labels=[dates[tick] for tick in ticks])\n",
        "    plt.savefig(\"regression.pdf\", bbox_inches='tight')\n",
        "\n",
        "    regline = dict(list(map(lambda a: [round(a[0]), a[1]], ax.ax.get_children()[1].get_path().vertices)))\n",
        "    for x in range(1, max(regline.keys()) + 1): # pyright: ignore\n",
        "        if x not in regline:\n",
        "            regline[x] = (regline[x-1] + regline[x+1]) / 2 # pyright: ignore\n",
        "    ranking = list()\n",
        "    for paper in [paper for paper in chain.from_iterable(papers.values())]:\n",
        "        ranking.append((paper.citationCount / regline[paper.published.timetuple().tm_yday], paper))\n",
        "    ranking = [x[1] for x in sorted(ranking, key=lambda x: x[0], reverse=True)]\n",
        "\n",
        "    return ranking[:50]\n",
        "sb.set()\n",
        "papers = get_papers()"
      ]
    },
    {
      "cell_type": "code",
      "execution_count": null,
      "metadata": {
        "id": "DHK0f2t1dWFq"
      },
      "outputs": [],
      "source": [
        "# optional code to save the .db file\n",
        "with open('defaultdict_file.pickle', 'wb') as file:\n",
        "    # Use a .pickle extension or any other extension you prefer\n",
        "  pickle.dump(papers, file)\n",
        "file.close()"
      ]
    },
    {
      "cell_type": "code",
      "execution_count": null,
      "metadata": {
        "id": "r2hAR3U8dZk7"
      },
      "outputs": [],
      "source": [
        "# # To plot the numbers of reference papers vs their age(in years) for a particular year.\n",
        "\n",
        "# # Flatten the nested list\n",
        "# ages_list = list(itertools.chain(*total_ages))\n",
        "# filter_list = []\n",
        "# for age in ages_list:\n",
        "#   if age<=20:\n",
        "#     filter_list.append(age)\n",
        "#   else:\n",
        "#     pass\n",
        "# ages_list = filter_list\n",
        "\n",
        "# # Determine the minimum and maximum values\n",
        "# min_age = min(ages_list)\n",
        "# if min_age < 0:\n",
        "#   min_age = 0\n",
        "# else:\n",
        "#   min_age = min(ages_list)\n",
        "# max_age = max(ages_list)\n",
        "\n",
        "# # Decide on the number of bins\n",
        "# num_bins = max_age\n",
        "\n",
        "# # Calculate the width of each bin\n",
        "# bin_width = (max_age - min_age) / num_bins\n",
        "# # Initialize a list to store the counts in each bin\n",
        "# bin_counts = [0] * num_bins\n",
        "\n",
        "# # Assign each age to its bin and increment the count\n",
        "# for age in ages_list:\n",
        "#     bin_index = abs(int((age - min_age) // bin_width)-1)\n",
        "#     bin_counts[bin_index] += 1\n",
        "\n",
        "# # Visualize the age distribution\n",
        "# bins = np.arange(min_age, max_age + bin_width, bin_width)\n",
        "# plt.hist(ages_list, bins=bins, edgecolor='black')\n",
        "# plt.xlabel('Age')\n",
        "# plt.ylabel('Count')\n",
        "# plt.title('Age Distribution of cs.AI Papers in 2020')\n",
        "# plt.show()"
      ]
    },
    {
      "cell_type": "code",
      "source": [
        "# To plot the numbers of reference papers vs their age(in years) for a particular year.\n",
        "\n",
        "# Flatten the nested list\n",
        "ages_list = list(itertools.chain(*total_ages))\n",
        "filter_list = []\n",
        "for age in ages_list:\n",
        "  if age<=20:\n",
        "    filter_list.append(age)\n",
        "  else:\n",
        "    pass\n",
        "ages_list = filter_list\n",
        "\n",
        "# Determine the minimum and maximum values\n",
        "min_age = min(ages_list)\n",
        "if min_age < 0:\n",
        "  min_age = 0\n",
        "else:\n",
        "  min_age = min(ages_list)\n",
        "max_age = max(ages_list)\n",
        "\n",
        "# Decide on the number of bins\n",
        "num_bins = max_age\n",
        "\n",
        "# Calculate the width of each bin\n",
        "bin_width = (max_age - min_age) / num_bins\n",
        "# Initialize a list to store the counts in each bin\n",
        "bin_counts = [0] * num_bins\n",
        "\n",
        "# Assign each age to its bin and increment the count\n",
        "for age in ages_list:\n",
        "    bin_index = abs(int((age - min_age) // bin_width)-1)\n",
        "    bin_counts[bin_index] += 1\n",
        "\n",
        "# Visualize the age distribution\n",
        "bins = np.arange(min_age, max_age + bin_width, bin_width)\n",
        "plt.hist(ages_list, bins=bins, edgecolor='black')\n",
        "plt.xlabel('Age')\n",
        "plt.ylabel('Count')\n",
        "plt.title('Age Distribution of econ.EM Papers in 2013')\n",
        "plt.show()"
      ],
      "metadata": {
        "colab": {
          "base_uri": "https://localhost:8080/",
          "height": 480
        },
        "id": "FBrqQ1TOHlzE",
        "outputId": "27cfc8a4-936e-421a-90b7-d4a3f973c64b"
      },
      "execution_count": null,
      "outputs": [
        {
          "output_type": "display_data",
          "data": {
            "text/plain": [
              "<Figure size 640x480 with 1 Axes>"
            ],
            "image/png": "[encoded data removed]"
          },
          "metadata": {}
        }
      ]
    },
    {
      "cell_type": "code",
      "execution_count": null,
      "metadata": {
        "id": "3Xpl_IHEdkjj"
      },
      "outputs": [],
      "source": [
        "sch = SemanticScholar(timeout=100)\n",
        "def custom_fn(strng = None):\n",
        "  ct_count = []\n",
        "  study_field = []\n",
        "  df = pd.read_csv(strng)\n",
        "  for i in df.index:\n",
        "    try:\n",
        "      paper = sch.get_paper(\"arxiv:\" + basename(df['link'][i]).split(\"v\")[0], fields=['citationCount','fieldsOfStudy'])\n",
        "      ct_count.append(paper.citationCount)\n",
        "      study_field.append(paper.fieldsOfStudy)\n",
        "    except:\n",
        "      ct_count.append(np.NaN)\n",
        "      study_field.append(np.NaN)\n",
        "  df.insert(loc=3, column='Citation Count', value = pd.Series(ct_count))\n",
        "  df.insert(loc=4, column='Fields of Study', value = pd.Series(study_field))\n",
        "  df.to_csv(strng.split('.')[0]+str('_new.csv'))\n",
        "\n",
        "# Write the filename for the csv file generated by the output.\n",
        "custom_fn('output.csv')"
      ]
    }
  ],
  "metadata": {
    "colab": {
      "provenance": [],
      "include_colab_link": true
    },
    "kernelspec": {
      "display_name": "Python 3",
      "name": "python3"
    },
    "language_info": {
      "name": "python"
    }
  },
  "nbformat": 4,
  "nbformat_minor": 0
}